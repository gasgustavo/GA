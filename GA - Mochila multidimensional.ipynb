{
 "cells": [
  {
   "cell_type": "raw",
   "metadata": {},
   "source": [
    "Descrição do problema:\n",
    "\n",
    "http://people.brunel.ac.uk/~mastjjb/jeb/orlib/mknapinfo.html"
   ]
  },
  {
   "cell_type": "code",
   "execution_count": 1,
   "metadata": {},
   "outputs": [],
   "source": [
    "from copy import deepcopy as copy\n",
    "import pandas as pd\n",
    "import numpy as np\n",
    "import urllib.request\n",
    "import re\n",
    "import random"
   ]
  },
  {
   "cell_type": "code",
   "execution_count": 4,
   "metadata": {},
   "outputs": [],
   "source": [
    "arquivo_txt = 'http://people.brunel.ac.uk/~mastjjb/jeb/orlib/files/mknapcb1.txt'\n",
    "\n",
    "data = list(urllib.request.urlopen(arquivo_txt))\n",
    "\n",
    "regex_numerica = re.compile('[0-9]+')"
   ]
  },
  {
   "cell_type": "markdown",
   "metadata": {},
   "source": [
    "# Prepara problemas:"
   ]
  },
  {
   "cell_type": "code",
   "execution_count": 5,
   "metadata": {},
   "outputs": [],
   "source": [
    "final_list = []\n",
    "list_of_limited_weigth = []\n",
    "weigth_limit = False\n",
    "matrix_of_objects = None\n",
    "\n",
    "for index, line in enumerate(data):\n",
    "    try:\n",
    "        \n",
    "        # Tiramos apenas os numeros da linha\n",
    "        splited_line = regex_numerica.findall(str(line))\n",
    "        splited_line = [int(i) for i in splited_line]\n",
    "        \n",
    "        # Se for linha de peso, a proxima sera o inicio de um problema\n",
    "        if weigth_limit:\n",
    "            list_of_limited_weigth.append(splited_line)\n",
    "            begining_of_problem = True\n",
    "            weigth_limit = False\n",
    "            continue\n",
    "        \n",
    "        # Iniciamos com a quantidade de problemas e a proxima é o sumario de um problema\n",
    "        if index == 0 :\n",
    "            number_of_problemns = splited_line[0]\n",
    "            begining_of_problem= True\n",
    "            continue\n",
    "\n",
    "        # No inicio de um problema zeramos algumas variaveis\n",
    "        if begining_of_problem:\n",
    "            number_of_objects, number_of_slots, _ = splited_line\n",
    "            begining_of_problem = False\n",
    "            if matrix_of_objects is not None:\n",
    "                final_list.append(copy(matrix_of_objects))\n",
    "            matrix_of_objects = [[] for i in range(number_of_slots+1)]\n",
    "            position = 0\n",
    "\n",
    "        # Se nao é inicio do problema podemos adicionar os pesos a matrix de objetos\n",
    "        else:    \n",
    "            matrix_of_objects[position] += splited_line\n",
    "\n",
    "        # Quando ja temos em um compartimento a quantidade de objetos podemos ir pro poximo slot\n",
    "        # se esse slot for o ultimo, significa q a proxima linha é de pesos\n",
    "        if len(matrix_of_objects[position]) == (number_of_objects):\n",
    "            position+=1\n",
    "\n",
    "            if position == (number_of_slots+1) : \n",
    "                weigth_limit = True\n",
    "\n",
    "    except Exception as exp:\n",
    "        print(exp)\n",
    "final_list.append(copy(matrix_of_objects))"
   ]
  },
  {
   "cell_type": "markdown",
   "metadata": {},
   "source": [
    "# Definindo o problema"
   ]
  },
  {
   "cell_type": "code",
   "execution_count": 6,
   "metadata": {},
   "outputs": [],
   "source": [
    "# Escolha um problema de 0 a 29\n",
    "INDEX_PROBLEMA = 5"
   ]
  },
  {
   "cell_type": "code",
   "execution_count": 7,
   "metadata": {},
   "outputs": [
    {
     "data": {
      "text/plain": [
       "(5, 100)"
      ]
     },
     "execution_count": 7,
     "metadata": {},
     "output_type": "execute_result"
    }
   ],
   "source": [
    "problema = final_list[INDEX_PROBLEMA]\n",
    "pesos = list_of_limited_weigth[INDEX_PROBLEMA]\n",
    "\n",
    "beneficios = problema.pop(-1)\n",
    "numero_de_compartimentos = len(problema)\n",
    "numero_de_objetos = len(problema[0])\n",
    "numero_de_compartimentos, numero_de_objetos"
   ]
  },
  {
   "cell_type": "markdown",
   "metadata": {},
   "source": [
    "# Algoritmo genético"
   ]
  },
  {
   "cell_type": "code",
   "execution_count": 8,
   "metadata": {},
   "outputs": [],
   "source": [
    "import plotly.express as px\n",
    "from copy import deepcopy as copy\n",
    "from tqdm.notebook import tqdm\n",
    "import time\n",
    "import sys\n",
    "\n",
    "MAX_GENERATIONS = 1000\n",
    "CXPB = 0.65\n",
    "MUTPB = 0.01\n",
    "POPULATION_SIZE = 250"
   ]
  },
  {
   "cell_type": "code",
   "execution_count": 17,
   "metadata": {},
   "outputs": [],
   "source": [
    "def inicia_populacao(numero_de_objetos, tamanho_populacao):\n",
    "    individuo = [cria_individuo(numero_de_objetos) for i in range(tamanho_populacao)]\n",
    "    return individuo\n",
    "\n",
    "def cria_individuo(numero_de_objetos):\n",
    "    # Cada individuo é composto por uma lista de tamanho 'numero_de_objetos'. Cada posição tem 0 ou 1\n",
    "    # Se for carregar o objeto sua posicao possui valor 1 se nao possui valor 0\n",
    "    \n",
    "    individuo = [random.randint(0,1) for i in range(numero_de_objetos)]\n",
    "    return individuo\n",
    "\n",
    "def seleciona_populacao(pop_aumentada, number_of_pop, fits):\n",
    "    # Selecao gulosa. Seleciona sempre os melhores\n",
    "    lista_of_indices = sorted(range(len(fits)), key=lambda x: fits[x])[-number_of_pop:]\n",
    "    return [i for index,i in enumerate(pop_aumentada) if index in lista_of_indices]\n",
    "\n",
    "def cruzamento(filho1, filho2):\n",
    "    ponto_de_corte = random.randint(1,len(filho1)-2)\n",
    "    descendente1 = copy(filho1[:ponto_de_corte]) + copy(filho2[ponto_de_corte:])\n",
    "    descendente2 = copy(filho2[:ponto_de_corte]) + copy(filho1[ponto_de_corte:])\n",
    "    return descendente1, descendente2\n",
    "\n",
    "def mutacao(individuo):\n",
    "    novo_individuo = copy(individuo)\n",
    "    for i in range(len(individuo)):\n",
    "        if random.random() < MUTPB:\n",
    "            novo_individuo[i] = 1 - novo_individuo[i]\n",
    "    return novo_individuo\n",
    "\n",
    "def calcula_fitness(individuo, problema, beneficios, pesos):\n",
    "    beneficio = np.dot(individuo, beneficios)\n",
    "    penalidade = 0\n",
    "    for compartimento,peso_maximo in zip(problema, pesos):\n",
    "        peso = np.dot(individuo, compartimento)\n",
    "        extra_peso = peso-peso_maximo\n",
    "        penalidade +=  extra_peso if extra_peso>0 else 0\n",
    "    beneficio = beneficio - penalidade#(beneficio*0.001)\n",
    "    return beneficio"
   ]
  },
  {
   "cell_type": "code",
   "execution_count": 18,
   "metadata": {},
   "outputs": [
    {
     "data": {
      "text/plain": [
       "250"
      ]
     },
     "execution_count": 18,
     "metadata": {},
     "output_type": "execute_result"
    }
   ],
   "source": []
  },
  {
   "cell_type": "code",
   "execution_count": 20,
   "metadata": {},
   "outputs": [
    {
     "data": {
      "application/vnd.jupyter.widget-view+json": {
       "model_id": "423aba1f0b3b411cbca8a40b4cac326a",
       "version_major": 2,
       "version_minor": 0
      },
      "text/plain": [
       "HBox(children=(FloatProgress(value=0.0, max=1000.0), HTML(value='')))"
      ]
     },
     "metadata": {},
     "output_type": "display_data"
    },
    {
     "name": "stdout",
     "output_type": "stream",
     "text": [
      "\n",
      "Melhor individuo: [0, 0, 0, 0, 0, 0, 0, 0, 0, 0, 0, 1, 0, 0, 0, 0, 0, 0, 0, 0, 0, 1, 0, 0, 0, 0, 0, 0, 0, 0, 0, 0, 0, 0, 0, 0, 0, 1, 0, 0, 1, 0, 0, 1, 0, 0, 0, 1, 1, 0, 1, 0, 0, 0, 0, 0, 0, 0, 0, 1, 1, 1, 0, 1, 0, 1, 0, 0, 0, 1, 0, 0, 0, 0, 0, 0, 1, 0, 0, 1, 1, 0, 0, 0, 0, 0, 1, 1, 0, 0, 0, 0, 0, 0, 0, 0, 1, 0, 0, 0]\n",
      "Fitness melhor individuo: 15608\n"
     ]
    },
    {
     "data": {
      "application/vnd.plotly.v1+json": {
       "config": {
        "plotlyServerURL": "https://plot.ly"
       },
       "data": [
        {
         "hovertemplate": "variable=Média<br>Geração=%{x}<br>value=%{y}<extra></extra>",
         "legendgroup": "Média",
         "line": {
          "color": "#636efa",
          "dash": "solid"
         },
         "mode": "lines",
         "name": "Média",
         "orientation": "v",
         "showlegend": true,
         "type": "scatter",
         "x": [
          1,
          2,
          3,
          4,
          5,
          6,
          7,
          8,
          9,
          10,
          11,
          12,
          13,
          14,
          15,
          16,
          17,
          18,
          19,
          20,
          21,
          22,
          23,
          24,
          25,
          26,
          27,
          28,
          29,
          30,
          31,
          32,
          33,
          34,
          35,
          36,
          37,
          38,
          39,
          40,
          41,
          42,
          43,
          44,
          45,
          46,
          47,
          48,
          49,
          50,
          51,
          52,
          53,
          54,
          55,
          56,
          57,
          58,
          59,
          60,
          61,
          62,
          63,
          64,
          65,
          66,
          67,
          68,
          69,
          70,
          71,
          72,
          73,
          74,
          75,
          76,
          77,
          78,
          79,
          80,
          81,
          82,
          83,
          84,
          85,
          86,
          87,
          88,
          89,
          90,
          91,
          92,
          93,
          94,
          95,
          96,
          97,
          98,
          99,
          100,
          101,
          102,
          103,
          104,
          105,
          106,
          107,
          108,
          109,
          110,
          111,
          112,
          113,
          114,
          115,
          116,
          117,
          118,
          119,
          120,
          121,
          122,
          123,
          124,
          125,
          126
         ],
         "xaxis": "x",
         "y": [
          -41948.748,
          -36542.636,
          -31369.628,
          -26923.568,
          -22610.412,
          -18563.224,
          -14946.584,
          -11102.816,
          -7437.164,
          -3859.712,
          -457.568,
          2673.556,
          5046.584,
          6517.116,
          7511.396,
          8185.624,
          8646.62,
          9069.288,
          9472.592,
          9804.02,
          10102.444,
          10357.42,
          10588.668,
          10842.676,
          11089.156,
          11326.408,
          11537.172,
          11767.052,
          11964.832,
          12178.82,
          12357.996,
          12540.972,
          12718.16,
          12886.952,
          13042.336,
          13181.592,
          13318.02,
          13426.82,
          13526.224,
          13625.268,
          13713.54,
          13811.764,
          13901.252,
          13987.896,
          14083.032,
          14168.692,
          14246.384,
          14324.232,
          14408.692,
          14478.46,
          14557.46,
          14637.116,
          14714.172,
          14790.636,
          14857.5,
          14923.912,
          14984.628,
          15030.608,
          15082.228,
          15134.388,
          15174.328,
          15211.592,
          15245.996,
          15281.12,
          15311.792,
          15341.7,
          15367.884,
          15389.88,
          15411.948,
          15441.844,
          15467.956,
          15490.02,
          15499.292,
          15508.188,
          15515.996,
          15528.628,
          15543.792,
          15557.804,
          15568.636,
          15574.936,
          15582.332,
          15588.116,
          15592.048,
          15593.648,
          15595.632,
          15598.464,
          15602.256,
          15607.136,
          15608,
          15608,
          15608,
          15608,
          15608,
          15608,
          15608,
          15608,
          15608,
          15608,
          15608,
          15608,
          15608,
          15608,
          15608,
          15608,
          15608,
          15608,
          15608,
          15608,
          15608,
          15608,
          15608,
          15608,
          15608,
          15608,
          15608,
          15608,
          15608,
          15608,
          15608,
          15608,
          15608,
          15608,
          15608,
          15608,
          15608,
          15608
         ],
         "yaxis": "y"
        },
        {
         "hovertemplate": "variable=Máximo<br>Geração=%{x}<br>value=%{y}<extra></extra>",
         "legendgroup": "Máximo",
         "line": {
          "color": "#EF553B",
          "dash": "solid"
         },
         "mode": "lines",
         "name": "Máximo",
         "orientation": "v",
         "showlegend": true,
         "type": "scatter",
         "x": [
          1,
          2,
          3,
          4,
          5,
          6,
          7,
          8,
          9,
          10,
          11,
          12,
          13,
          14,
          15,
          16,
          17,
          18,
          19,
          20,
          21,
          22,
          23,
          24,
          25,
          26,
          27,
          28,
          29,
          30,
          31,
          32,
          33,
          34,
          35,
          36,
          37,
          38,
          39,
          40,
          41,
          42,
          43,
          44,
          45,
          46,
          47,
          48,
          49,
          50,
          51,
          52,
          53,
          54,
          55,
          56,
          57,
          58,
          59,
          60,
          61,
          62,
          63,
          64,
          65,
          66,
          67,
          68,
          69,
          70,
          71,
          72,
          73,
          74,
          75,
          76,
          77,
          78,
          79,
          80,
          81,
          82,
          83,
          84,
          85,
          86,
          87,
          88,
          89,
          90,
          91,
          92,
          93,
          94,
          95,
          96,
          97,
          98,
          99,
          100,
          101,
          102,
          103,
          104,
          105,
          106,
          107,
          108,
          109,
          110,
          111,
          112,
          113,
          114,
          115,
          116,
          117,
          118,
          119,
          120,
          121,
          122,
          123,
          124,
          125,
          126
         ],
         "xaxis": "x",
         "y": [
          -18170,
          -18170,
          -10208,
          -8095,
          -4956,
          -2668,
          -1364,
          5640,
          7603,
          7603,
          8069,
          9283,
          9535,
          9679,
          9889,
          10321,
          10897,
          11072,
          11072,
          11072,
          11674,
          11683,
          12153,
          12519,
          12519,
          12854,
          12854,
          12854,
          13195,
          13195,
          13421,
          13421,
          13767,
          13767,
          13767,
          13767,
          14138,
          14138,
          14138,
          14340,
          14340,
          14340,
          14563,
          14563,
          14710,
          14924,
          14924,
          14924,
          14948,
          15065,
          15204,
          15204,
          15335,
          15346,
          15346,
          15477,
          15477,
          15477,
          15477,
          15477,
          15477,
          15477,
          15485,
          15485,
          15512,
          15553,
          15553,
          15553,
          15553,
          15553,
          15580,
          15580,
          15588,
          15588,
          15588,
          15608,
          15608,
          15608,
          15608,
          15608,
          15608,
          15608,
          15608,
          15608,
          15608,
          15608,
          15608,
          15608,
          15608,
          15608,
          15608,
          15608,
          15608,
          15608,
          15608,
          15608,
          15608,
          15608,
          15608,
          15608,
          15608,
          15608,
          15608,
          15608,
          15608,
          15608,
          15608,
          15608,
          15608,
          15608,
          15608,
          15608,
          15608,
          15608,
          15608,
          15608,
          15608,
          15608,
          15608,
          15608,
          15608,
          15608,
          15608,
          15608,
          15608,
          15608
         ],
         "yaxis": "y"
        }
       ],
       "layout": {
        "legend": {
         "title": {
          "text": "variable"
         },
         "tracegroupgap": 0
        },
        "template": {
         "data": {
          "bar": [
           {
            "error_x": {
             "color": "#2a3f5f"
            },
            "error_y": {
             "color": "#2a3f5f"
            },
            "marker": {
             "line": {
              "color": "#E5ECF6",
              "width": 0.5
             }
            },
            "type": "bar"
           }
          ],
          "barpolar": [
           {
            "marker": {
             "line": {
              "color": "#E5ECF6",
              "width": 0.5
             }
            },
            "type": "barpolar"
           }
          ],
          "carpet": [
           {
            "aaxis": {
             "endlinecolor": "#2a3f5f",
             "gridcolor": "white",
             "linecolor": "white",
             "minorgridcolor": "white",
             "startlinecolor": "#2a3f5f"
            },
            "baxis": {
             "endlinecolor": "#2a3f5f",
             "gridcolor": "white",
             "linecolor": "white",
             "minorgridcolor": "white",
             "startlinecolor": "#2a3f5f"
            },
            "type": "carpet"
           }
          ],
          "choropleth": [
           {
            "colorbar": {
             "outlinewidth": 0,
             "ticks": ""
            },
            "type": "choropleth"
           }
          ],
          "contour": [
           {
            "colorbar": {
             "outlinewidth": 0,
             "ticks": ""
            },
            "colorscale": [
             [
              0,
              "#0d0887"
             ],
             [
              0.1111111111111111,
              "#46039f"
             ],
             [
              0.2222222222222222,
              "#7201a8"
             ],
             [
              0.3333333333333333,
              "#9c179e"
             ],
             [
              0.4444444444444444,
              "#bd3786"
             ],
             [
              0.5555555555555556,
              "#d8576b"
             ],
             [
              0.6666666666666666,
              "#ed7953"
             ],
             [
              0.7777777777777778,
              "#fb9f3a"
             ],
             [
              0.8888888888888888,
              "#fdca26"
             ],
             [
              1,
              "#f0f921"
             ]
            ],
            "type": "contour"
           }
          ],
          "contourcarpet": [
           {
            "colorbar": {
             "outlinewidth": 0,
             "ticks": ""
            },
            "type": "contourcarpet"
           }
          ],
          "heatmap": [
           {
            "colorbar": {
             "outlinewidth": 0,
             "ticks": ""
            },
            "colorscale": [
             [
              0,
              "#0d0887"
             ],
             [
              0.1111111111111111,
              "#46039f"
             ],
             [
              0.2222222222222222,
              "#7201a8"
             ],
             [
              0.3333333333333333,
              "#9c179e"
             ],
             [
              0.4444444444444444,
              "#bd3786"
             ],
             [
              0.5555555555555556,
              "#d8576b"
             ],
             [
              0.6666666666666666,
              "#ed7953"
             ],
             [
              0.7777777777777778,
              "#fb9f3a"
             ],
             [
              0.8888888888888888,
              "#fdca26"
             ],
             [
              1,
              "#f0f921"
             ]
            ],
            "type": "heatmap"
           }
          ],
          "heatmapgl": [
           {
            "colorbar": {
             "outlinewidth": 0,
             "ticks": ""
            },
            "colorscale": [
             [
              0,
              "#0d0887"
             ],
             [
              0.1111111111111111,
              "#46039f"
             ],
             [
              0.2222222222222222,
              "#7201a8"
             ],
             [
              0.3333333333333333,
              "#9c179e"
             ],
             [
              0.4444444444444444,
              "#bd3786"
             ],
             [
              0.5555555555555556,
              "#d8576b"
             ],
             [
              0.6666666666666666,
              "#ed7953"
             ],
             [
              0.7777777777777778,
              "#fb9f3a"
             ],
             [
              0.8888888888888888,
              "#fdca26"
             ],
             [
              1,
              "#f0f921"
             ]
            ],
            "type": "heatmapgl"
           }
          ],
          "histogram": [
           {
            "marker": {
             "colorbar": {
              "outlinewidth": 0,
              "ticks": ""
             }
            },
            "type": "histogram"
           }
          ],
          "histogram2d": [
           {
            "colorbar": {
             "outlinewidth": 0,
             "ticks": ""
            },
            "colorscale": [
             [
              0,
              "#0d0887"
             ],
             [
              0.1111111111111111,
              "#46039f"
             ],
             [
              0.2222222222222222,
              "#7201a8"
             ],
             [
              0.3333333333333333,
              "#9c179e"
             ],
             [
              0.4444444444444444,
              "#bd3786"
             ],
             [
              0.5555555555555556,
              "#d8576b"
             ],
             [
              0.6666666666666666,
              "#ed7953"
             ],
             [
              0.7777777777777778,
              "#fb9f3a"
             ],
             [
              0.8888888888888888,
              "#fdca26"
             ],
             [
              1,
              "#f0f921"
             ]
            ],
            "type": "histogram2d"
           }
          ],
          "histogram2dcontour": [
           {
            "colorbar": {
             "outlinewidth": 0,
             "ticks": ""
            },
            "colorscale": [
             [
              0,
              "#0d0887"
             ],
             [
              0.1111111111111111,
              "#46039f"
             ],
             [
              0.2222222222222222,
              "#7201a8"
             ],
             [
              0.3333333333333333,
              "#9c179e"
             ],
             [
              0.4444444444444444,
              "#bd3786"
             ],
             [
              0.5555555555555556,
              "#d8576b"
             ],
             [
              0.6666666666666666,
              "#ed7953"
             ],
             [
              0.7777777777777778,
              "#fb9f3a"
             ],
             [
              0.8888888888888888,
              "#fdca26"
             ],
             [
              1,
              "#f0f921"
             ]
            ],
            "type": "histogram2dcontour"
           }
          ],
          "mesh3d": [
           {
            "colorbar": {
             "outlinewidth": 0,
             "ticks": ""
            },
            "type": "mesh3d"
           }
          ],
          "parcoords": [
           {
            "line": {
             "colorbar": {
              "outlinewidth": 0,
              "ticks": ""
             }
            },
            "type": "parcoords"
           }
          ],
          "pie": [
           {
            "automargin": true,
            "type": "pie"
           }
          ],
          "scatter": [
           {
            "marker": {
             "colorbar": {
              "outlinewidth": 0,
              "ticks": ""
             }
            },
            "type": "scatter"
           }
          ],
          "scatter3d": [
           {
            "line": {
             "colorbar": {
              "outlinewidth": 0,
              "ticks": ""
             }
            },
            "marker": {
             "colorbar": {
              "outlinewidth": 0,
              "ticks": ""
             }
            },
            "type": "scatter3d"
           }
          ],
          "scattercarpet": [
           {
            "marker": {
             "colorbar": {
              "outlinewidth": 0,
              "ticks": ""
             }
            },
            "type": "scattercarpet"
           }
          ],
          "scattergeo": [
           {
            "marker": {
             "colorbar": {
              "outlinewidth": 0,
              "ticks": ""
             }
            },
            "type": "scattergeo"
           }
          ],
          "scattergl": [
           {
            "marker": {
             "colorbar": {
              "outlinewidth": 0,
              "ticks": ""
             }
            },
            "type": "scattergl"
           }
          ],
          "scattermapbox": [
           {
            "marker": {
             "colorbar": {
              "outlinewidth": 0,
              "ticks": ""
             }
            },
            "type": "scattermapbox"
           }
          ],
          "scatterpolar": [
           {
            "marker": {
             "colorbar": {
              "outlinewidth": 0,
              "ticks": ""
             }
            },
            "type": "scatterpolar"
           }
          ],
          "scatterpolargl": [
           {
            "marker": {
             "colorbar": {
              "outlinewidth": 0,
              "ticks": ""
             }
            },
            "type": "scatterpolargl"
           }
          ],
          "scatterternary": [
           {
            "marker": {
             "colorbar": {
              "outlinewidth": 0,
              "ticks": ""
             }
            },
            "type": "scatterternary"
           }
          ],
          "surface": [
           {
            "colorbar": {
             "outlinewidth": 0,
             "ticks": ""
            },
            "colorscale": [
             [
              0,
              "#0d0887"
             ],
             [
              0.1111111111111111,
              "#46039f"
             ],
             [
              0.2222222222222222,
              "#7201a8"
             ],
             [
              0.3333333333333333,
              "#9c179e"
             ],
             [
              0.4444444444444444,
              "#bd3786"
             ],
             [
              0.5555555555555556,
              "#d8576b"
             ],
             [
              0.6666666666666666,
              "#ed7953"
             ],
             [
              0.7777777777777778,
              "#fb9f3a"
             ],
             [
              0.8888888888888888,
              "#fdca26"
             ],
             [
              1,
              "#f0f921"
             ]
            ],
            "type": "surface"
           }
          ],
          "table": [
           {
            "cells": {
             "fill": {
              "color": "#EBF0F8"
             },
             "line": {
              "color": "white"
             }
            },
            "header": {
             "fill": {
              "color": "#C8D4E3"
             },
             "line": {
              "color": "white"
             }
            },
            "type": "table"
           }
          ]
         },
         "layout": {
          "annotationdefaults": {
           "arrowcolor": "#2a3f5f",
           "arrowhead": 0,
           "arrowwidth": 1
          },
          "coloraxis": {
           "colorbar": {
            "outlinewidth": 0,
            "ticks": ""
           }
          },
          "colorscale": {
           "diverging": [
            [
             0,
             "#8e0152"
            ],
            [
             0.1,
             "#c51b7d"
            ],
            [
             0.2,
             "#de77ae"
            ],
            [
             0.3,
             "#f1b6da"
            ],
            [
             0.4,
             "#fde0ef"
            ],
            [
             0.5,
             "#f7f7f7"
            ],
            [
             0.6,
             "#e6f5d0"
            ],
            [
             0.7,
             "#b8e186"
            ],
            [
             0.8,
             "#7fbc41"
            ],
            [
             0.9,
             "#4d9221"
            ],
            [
             1,
             "#276419"
            ]
           ],
           "sequential": [
            [
             0,
             "#0d0887"
            ],
            [
             0.1111111111111111,
             "#46039f"
            ],
            [
             0.2222222222222222,
             "#7201a8"
            ],
            [
             0.3333333333333333,
             "#9c179e"
            ],
            [
             0.4444444444444444,
             "#bd3786"
            ],
            [
             0.5555555555555556,
             "#d8576b"
            ],
            [
             0.6666666666666666,
             "#ed7953"
            ],
            [
             0.7777777777777778,
             "#fb9f3a"
            ],
            [
             0.8888888888888888,
             "#fdca26"
            ],
            [
             1,
             "#f0f921"
            ]
           ],
           "sequentialminus": [
            [
             0,
             "#0d0887"
            ],
            [
             0.1111111111111111,
             "#46039f"
            ],
            [
             0.2222222222222222,
             "#7201a8"
            ],
            [
             0.3333333333333333,
             "#9c179e"
            ],
            [
             0.4444444444444444,
             "#bd3786"
            ],
            [
             0.5555555555555556,
             "#d8576b"
            ],
            [
             0.6666666666666666,
             "#ed7953"
            ],
            [
             0.7777777777777778,
             "#fb9f3a"
            ],
            [
             0.8888888888888888,
             "#fdca26"
            ],
            [
             1,
             "#f0f921"
            ]
           ]
          },
          "colorway": [
           "#636efa",
           "#EF553B",
           "#00cc96",
           "#ab63fa",
           "#FFA15A",
           "#19d3f3",
           "#FF6692",
           "#B6E880",
           "#FF97FF",
           "#FECB52"
          ],
          "font": {
           "color": "#2a3f5f"
          },
          "geo": {
           "bgcolor": "white",
           "lakecolor": "white",
           "landcolor": "#E5ECF6",
           "showlakes": true,
           "showland": true,
           "subunitcolor": "white"
          },
          "hoverlabel": {
           "align": "left"
          },
          "hovermode": "closest",
          "mapbox": {
           "style": "light"
          },
          "paper_bgcolor": "white",
          "plot_bgcolor": "#E5ECF6",
          "polar": {
           "angularaxis": {
            "gridcolor": "white",
            "linecolor": "white",
            "ticks": ""
           },
           "bgcolor": "#E5ECF6",
           "radialaxis": {
            "gridcolor": "white",
            "linecolor": "white",
            "ticks": ""
           }
          },
          "scene": {
           "xaxis": {
            "backgroundcolor": "#E5ECF6",
            "gridcolor": "white",
            "gridwidth": 2,
            "linecolor": "white",
            "showbackground": true,
            "ticks": "",
            "zerolinecolor": "white"
           },
           "yaxis": {
            "backgroundcolor": "#E5ECF6",
            "gridcolor": "white",
            "gridwidth": 2,
            "linecolor": "white",
            "showbackground": true,
            "ticks": "",
            "zerolinecolor": "white"
           },
           "zaxis": {
            "backgroundcolor": "#E5ECF6",
            "gridcolor": "white",
            "gridwidth": 2,
            "linecolor": "white",
            "showbackground": true,
            "ticks": "",
            "zerolinecolor": "white"
           }
          },
          "shapedefaults": {
           "line": {
            "color": "#2a3f5f"
           }
          },
          "ternary": {
           "aaxis": {
            "gridcolor": "white",
            "linecolor": "white",
            "ticks": ""
           },
           "baxis": {
            "gridcolor": "white",
            "linecolor": "white",
            "ticks": ""
           },
           "bgcolor": "#E5ECF6",
           "caxis": {
            "gridcolor": "white",
            "linecolor": "white",
            "ticks": ""
           }
          },
          "title": {
           "x": 0.05
          },
          "xaxis": {
           "automargin": true,
           "gridcolor": "white",
           "linecolor": "white",
           "ticks": "",
           "title": {
            "standoff": 15
           },
           "zerolinecolor": "white",
           "zerolinewidth": 2
          },
          "yaxis": {
           "automargin": true,
           "gridcolor": "white",
           "linecolor": "white",
           "ticks": "",
           "title": {
            "standoff": 15
           },
           "zerolinecolor": "white",
           "zerolinewidth": 2
          }
         }
        },
        "title": {
         "text": "Algorítmo genético"
        },
        "xaxis": {
         "anchor": "y",
         "domain": [
          0,
          1
         ],
         "title": {
          "text": "Geração"
         }
        },
        "yaxis": {
         "anchor": "x",
         "domain": [
          0,
          1
         ],
         "title": {
          "text": "value"
         }
        }
       }
      },
      "text/html": [
       "<div>\n",
       "        \n",
       "        \n",
       "            <div id=\"495006d1-3bd2-4b32-9630-0fee35e7a7ec\" class=\"plotly-graph-div\" style=\"height:525px; width:100%;\"></div>\n",
       "            <script type=\"text/javascript\">\n",
       "                require([\"plotly\"], function(Plotly) {\n",
       "                    window.PLOTLYENV=window.PLOTLYENV || {};\n",
       "                    \n",
       "                if (document.getElementById(\"495006d1-3bd2-4b32-9630-0fee35e7a7ec\")) {\n",
       "                    Plotly.newPlot(\n",
       "                        '495006d1-3bd2-4b32-9630-0fee35e7a7ec',\n",
       "                        [{\"hovertemplate\": \"variable=M\\u00e9dia<br>Gera\\u00e7\\u00e3o=%{x}<br>value=%{y}<extra></extra>\", \"legendgroup\": \"M\\u00e9dia\", \"line\": {\"color\": \"#636efa\", \"dash\": \"solid\"}, \"mode\": \"lines\", \"name\": \"M\\u00e9dia\", \"orientation\": \"v\", \"showlegend\": true, \"type\": \"scatter\", \"x\": [1, 2, 3, 4, 5, 6, 7, 8, 9, 10, 11, 12, 13, 14, 15, 16, 17, 18, 19, 20, 21, 22, 23, 24, 25, 26, 27, 28, 29, 30, 31, 32, 33, 34, 35, 36, 37, 38, 39, 40, 41, 42, 43, 44, 45, 46, 47, 48, 49, 50, 51, 52, 53, 54, 55, 56, 57, 58, 59, 60, 61, 62, 63, 64, 65, 66, 67, 68, 69, 70, 71, 72, 73, 74, 75, 76, 77, 78, 79, 80, 81, 82, 83, 84, 85, 86, 87, 88, 89, 90, 91, 92, 93, 94, 95, 96, 97, 98, 99, 100, 101, 102, 103, 104, 105, 106, 107, 108, 109, 110, 111, 112, 113, 114, 115, 116, 117, 118, 119, 120, 121, 122, 123, 124, 125, 126], \"xaxis\": \"x\", \"y\": [-41948.748, -36542.636, -31369.628, -26923.568, -22610.412, -18563.224, -14946.584, -11102.816, -7437.164, -3859.712, -457.568, 2673.556, 5046.584, 6517.116, 7511.396, 8185.624, 8646.62, 9069.288, 9472.592, 9804.02, 10102.444, 10357.42, 10588.668, 10842.676, 11089.156, 11326.408, 11537.172, 11767.052, 11964.832, 12178.82, 12357.996, 12540.972, 12718.16, 12886.952, 13042.336, 13181.592, 13318.02, 13426.82, 13526.224, 13625.268, 13713.54, 13811.764, 13901.252, 13987.896, 14083.032, 14168.692, 14246.384, 14324.232, 14408.692, 14478.46, 14557.46, 14637.116, 14714.172, 14790.636, 14857.5, 14923.912, 14984.628, 15030.608, 15082.228, 15134.388, 15174.328, 15211.592, 15245.996, 15281.12, 15311.792, 15341.7, 15367.884, 15389.88, 15411.948, 15441.844, 15467.956, 15490.02, 15499.292, 15508.188, 15515.996, 15528.628, 15543.792, 15557.804, 15568.636, 15574.936, 15582.332, 15588.116, 15592.048, 15593.648, 15595.632, 15598.464, 15602.256, 15607.136, 15608.0, 15608.0, 15608.0, 15608.0, 15608.0, 15608.0, 15608.0, 15608.0, 15608.0, 15608.0, 15608.0, 15608.0, 15608.0, 15608.0, 15608.0, 15608.0, 15608.0, 15608.0, 15608.0, 15608.0, 15608.0, 15608.0, 15608.0, 15608.0, 15608.0, 15608.0, 15608.0, 15608.0, 15608.0, 15608.0, 15608.0, 15608.0, 15608.0, 15608.0, 15608.0, 15608.0, 15608.0, 15608.0], \"yaxis\": \"y\"}, {\"hovertemplate\": \"variable=M\\u00e1ximo<br>Gera\\u00e7\\u00e3o=%{x}<br>value=%{y}<extra></extra>\", \"legendgroup\": \"M\\u00e1ximo\", \"line\": {\"color\": \"#EF553B\", \"dash\": \"solid\"}, \"mode\": \"lines\", \"name\": \"M\\u00e1ximo\", \"orientation\": \"v\", \"showlegend\": true, \"type\": \"scatter\", \"x\": [1, 2, 3, 4, 5, 6, 7, 8, 9, 10, 11, 12, 13, 14, 15, 16, 17, 18, 19, 20, 21, 22, 23, 24, 25, 26, 27, 28, 29, 30, 31, 32, 33, 34, 35, 36, 37, 38, 39, 40, 41, 42, 43, 44, 45, 46, 47, 48, 49, 50, 51, 52, 53, 54, 55, 56, 57, 58, 59, 60, 61, 62, 63, 64, 65, 66, 67, 68, 69, 70, 71, 72, 73, 74, 75, 76, 77, 78, 79, 80, 81, 82, 83, 84, 85, 86, 87, 88, 89, 90, 91, 92, 93, 94, 95, 96, 97, 98, 99, 100, 101, 102, 103, 104, 105, 106, 107, 108, 109, 110, 111, 112, 113, 114, 115, 116, 117, 118, 119, 120, 121, 122, 123, 124, 125, 126], \"xaxis\": \"x\", \"y\": [-18170.0, -18170.0, -10208.0, -8095.0, -4956.0, -2668.0, -1364.0, 5640.0, 7603.0, 7603.0, 8069.0, 9283.0, 9535.0, 9679.0, 9889.0, 10321.0, 10897.0, 11072.0, 11072.0, 11072.0, 11674.0, 11683.0, 12153.0, 12519.0, 12519.0, 12854.0, 12854.0, 12854.0, 13195.0, 13195.0, 13421.0, 13421.0, 13767.0, 13767.0, 13767.0, 13767.0, 14138.0, 14138.0, 14138.0, 14340.0, 14340.0, 14340.0, 14563.0, 14563.0, 14710.0, 14924.0, 14924.0, 14924.0, 14948.0, 15065.0, 15204.0, 15204.0, 15335.0, 15346.0, 15346.0, 15477.0, 15477.0, 15477.0, 15477.0, 15477.0, 15477.0, 15477.0, 15485.0, 15485.0, 15512.0, 15553.0, 15553.0, 15553.0, 15553.0, 15553.0, 15580.0, 15580.0, 15588.0, 15588.0, 15588.0, 15608.0, 15608.0, 15608.0, 15608.0, 15608.0, 15608.0, 15608.0, 15608.0, 15608.0, 15608.0, 15608.0, 15608.0, 15608.0, 15608.0, 15608.0, 15608.0, 15608.0, 15608.0, 15608.0, 15608.0, 15608.0, 15608.0, 15608.0, 15608.0, 15608.0, 15608.0, 15608.0, 15608.0, 15608.0, 15608.0, 15608.0, 15608.0, 15608.0, 15608.0, 15608.0, 15608.0, 15608.0, 15608.0, 15608.0, 15608.0, 15608.0, 15608.0, 15608.0, 15608.0, 15608.0, 15608.0, 15608.0, 15608.0, 15608.0, 15608.0, 15608.0], \"yaxis\": \"y\"}],\n",
       "                        {\"legend\": {\"title\": {\"text\": \"variable\"}, \"tracegroupgap\": 0}, \"template\": {\"data\": {\"bar\": [{\"error_x\": {\"color\": \"#2a3f5f\"}, \"error_y\": {\"color\": \"#2a3f5f\"}, \"marker\": {\"line\": {\"color\": \"#E5ECF6\", \"width\": 0.5}}, \"type\": \"bar\"}], \"barpolar\": [{\"marker\": {\"line\": {\"color\": \"#E5ECF6\", \"width\": 0.5}}, \"type\": \"barpolar\"}], \"carpet\": [{\"aaxis\": {\"endlinecolor\": \"#2a3f5f\", \"gridcolor\": \"white\", \"linecolor\": \"white\", \"minorgridcolor\": \"white\", \"startlinecolor\": \"#2a3f5f\"}, \"baxis\": {\"endlinecolor\": \"#2a3f5f\", \"gridcolor\": \"white\", \"linecolor\": \"white\", \"minorgridcolor\": \"white\", \"startlinecolor\": \"#2a3f5f\"}, \"type\": \"carpet\"}], \"choropleth\": [{\"colorbar\": {\"outlinewidth\": 0, \"ticks\": \"\"}, \"type\": \"choropleth\"}], \"contour\": [{\"colorbar\": {\"outlinewidth\": 0, \"ticks\": \"\"}, \"colorscale\": [[0.0, \"#0d0887\"], [0.1111111111111111, \"#46039f\"], [0.2222222222222222, \"#7201a8\"], [0.3333333333333333, \"#9c179e\"], [0.4444444444444444, \"#bd3786\"], [0.5555555555555556, \"#d8576b\"], [0.6666666666666666, \"#ed7953\"], [0.7777777777777778, \"#fb9f3a\"], [0.8888888888888888, \"#fdca26\"], [1.0, \"#f0f921\"]], \"type\": \"contour\"}], \"contourcarpet\": [{\"colorbar\": {\"outlinewidth\": 0, \"ticks\": \"\"}, \"type\": \"contourcarpet\"}], \"heatmap\": [{\"colorbar\": {\"outlinewidth\": 0, \"ticks\": \"\"}, \"colorscale\": [[0.0, \"#0d0887\"], [0.1111111111111111, \"#46039f\"], [0.2222222222222222, \"#7201a8\"], [0.3333333333333333, \"#9c179e\"], [0.4444444444444444, \"#bd3786\"], [0.5555555555555556, \"#d8576b\"], [0.6666666666666666, \"#ed7953\"], [0.7777777777777778, \"#fb9f3a\"], [0.8888888888888888, \"#fdca26\"], [1.0, \"#f0f921\"]], \"type\": \"heatmap\"}], \"heatmapgl\": [{\"colorbar\": {\"outlinewidth\": 0, \"ticks\": \"\"}, \"colorscale\": [[0.0, \"#0d0887\"], [0.1111111111111111, \"#46039f\"], [0.2222222222222222, \"#7201a8\"], [0.3333333333333333, \"#9c179e\"], [0.4444444444444444, \"#bd3786\"], [0.5555555555555556, \"#d8576b\"], [0.6666666666666666, \"#ed7953\"], [0.7777777777777778, \"#fb9f3a\"], [0.8888888888888888, \"#fdca26\"], [1.0, \"#f0f921\"]], \"type\": \"heatmapgl\"}], \"histogram\": [{\"marker\": {\"colorbar\": {\"outlinewidth\": 0, \"ticks\": \"\"}}, \"type\": \"histogram\"}], \"histogram2d\": [{\"colorbar\": {\"outlinewidth\": 0, \"ticks\": \"\"}, \"colorscale\": [[0.0, \"#0d0887\"], [0.1111111111111111, \"#46039f\"], [0.2222222222222222, \"#7201a8\"], [0.3333333333333333, \"#9c179e\"], [0.4444444444444444, \"#bd3786\"], [0.5555555555555556, \"#d8576b\"], [0.6666666666666666, \"#ed7953\"], [0.7777777777777778, \"#fb9f3a\"], [0.8888888888888888, \"#fdca26\"], [1.0, \"#f0f921\"]], \"type\": \"histogram2d\"}], \"histogram2dcontour\": [{\"colorbar\": {\"outlinewidth\": 0, \"ticks\": \"\"}, \"colorscale\": [[0.0, \"#0d0887\"], [0.1111111111111111, \"#46039f\"], [0.2222222222222222, \"#7201a8\"], [0.3333333333333333, \"#9c179e\"], [0.4444444444444444, \"#bd3786\"], [0.5555555555555556, \"#d8576b\"], [0.6666666666666666, \"#ed7953\"], [0.7777777777777778, \"#fb9f3a\"], [0.8888888888888888, \"#fdca26\"], [1.0, \"#f0f921\"]], \"type\": \"histogram2dcontour\"}], \"mesh3d\": [{\"colorbar\": {\"outlinewidth\": 0, \"ticks\": \"\"}, \"type\": \"mesh3d\"}], \"parcoords\": [{\"line\": {\"colorbar\": {\"outlinewidth\": 0, \"ticks\": \"\"}}, \"type\": \"parcoords\"}], \"pie\": [{\"automargin\": true, \"type\": \"pie\"}], \"scatter\": [{\"marker\": {\"colorbar\": {\"outlinewidth\": 0, \"ticks\": \"\"}}, \"type\": \"scatter\"}], \"scatter3d\": [{\"line\": {\"colorbar\": {\"outlinewidth\": 0, \"ticks\": \"\"}}, \"marker\": {\"colorbar\": {\"outlinewidth\": 0, \"ticks\": \"\"}}, \"type\": \"scatter3d\"}], \"scattercarpet\": [{\"marker\": {\"colorbar\": {\"outlinewidth\": 0, \"ticks\": \"\"}}, \"type\": \"scattercarpet\"}], \"scattergeo\": [{\"marker\": {\"colorbar\": {\"outlinewidth\": 0, \"ticks\": \"\"}}, \"type\": \"scattergeo\"}], \"scattergl\": [{\"marker\": {\"colorbar\": {\"outlinewidth\": 0, \"ticks\": \"\"}}, \"type\": \"scattergl\"}], \"scattermapbox\": [{\"marker\": {\"colorbar\": {\"outlinewidth\": 0, \"ticks\": \"\"}}, \"type\": \"scattermapbox\"}], \"scatterpolar\": [{\"marker\": {\"colorbar\": {\"outlinewidth\": 0, \"ticks\": \"\"}}, \"type\": \"scatterpolar\"}], \"scatterpolargl\": [{\"marker\": {\"colorbar\": {\"outlinewidth\": 0, \"ticks\": \"\"}}, \"type\": \"scatterpolargl\"}], \"scatterternary\": [{\"marker\": {\"colorbar\": {\"outlinewidth\": 0, \"ticks\": \"\"}}, \"type\": \"scatterternary\"}], \"surface\": [{\"colorbar\": {\"outlinewidth\": 0, \"ticks\": \"\"}, \"colorscale\": [[0.0, \"#0d0887\"], [0.1111111111111111, \"#46039f\"], [0.2222222222222222, \"#7201a8\"], [0.3333333333333333, \"#9c179e\"], [0.4444444444444444, \"#bd3786\"], [0.5555555555555556, \"#d8576b\"], [0.6666666666666666, \"#ed7953\"], [0.7777777777777778, \"#fb9f3a\"], [0.8888888888888888, \"#fdca26\"], [1.0, \"#f0f921\"]], \"type\": \"surface\"}], \"table\": [{\"cells\": {\"fill\": {\"color\": \"#EBF0F8\"}, \"line\": {\"color\": \"white\"}}, \"header\": {\"fill\": {\"color\": \"#C8D4E3\"}, \"line\": {\"color\": \"white\"}}, \"type\": \"table\"}]}, \"layout\": {\"annotationdefaults\": {\"arrowcolor\": \"#2a3f5f\", \"arrowhead\": 0, \"arrowwidth\": 1}, \"coloraxis\": {\"colorbar\": {\"outlinewidth\": 0, \"ticks\": \"\"}}, \"colorscale\": {\"diverging\": [[0, \"#8e0152\"], [0.1, \"#c51b7d\"], [0.2, \"#de77ae\"], [0.3, \"#f1b6da\"], [0.4, \"#fde0ef\"], [0.5, \"#f7f7f7\"], [0.6, \"#e6f5d0\"], [0.7, \"#b8e186\"], [0.8, \"#7fbc41\"], [0.9, \"#4d9221\"], [1, \"#276419\"]], \"sequential\": [[0.0, \"#0d0887\"], [0.1111111111111111, \"#46039f\"], [0.2222222222222222, \"#7201a8\"], [0.3333333333333333, \"#9c179e\"], [0.4444444444444444, \"#bd3786\"], [0.5555555555555556, \"#d8576b\"], [0.6666666666666666, \"#ed7953\"], [0.7777777777777778, \"#fb9f3a\"], [0.8888888888888888, \"#fdca26\"], [1.0, \"#f0f921\"]], \"sequentialminus\": [[0.0, \"#0d0887\"], [0.1111111111111111, \"#46039f\"], [0.2222222222222222, \"#7201a8\"], [0.3333333333333333, \"#9c179e\"], [0.4444444444444444, \"#bd3786\"], [0.5555555555555556, \"#d8576b\"], [0.6666666666666666, \"#ed7953\"], [0.7777777777777778, \"#fb9f3a\"], [0.8888888888888888, \"#fdca26\"], [1.0, \"#f0f921\"]]}, \"colorway\": [\"#636efa\", \"#EF553B\", \"#00cc96\", \"#ab63fa\", \"#FFA15A\", \"#19d3f3\", \"#FF6692\", \"#B6E880\", \"#FF97FF\", \"#FECB52\"], \"font\": {\"color\": \"#2a3f5f\"}, \"geo\": {\"bgcolor\": \"white\", \"lakecolor\": \"white\", \"landcolor\": \"#E5ECF6\", \"showlakes\": true, \"showland\": true, \"subunitcolor\": \"white\"}, \"hoverlabel\": {\"align\": \"left\"}, \"hovermode\": \"closest\", \"mapbox\": {\"style\": \"light\"}, \"paper_bgcolor\": \"white\", \"plot_bgcolor\": \"#E5ECF6\", \"polar\": {\"angularaxis\": {\"gridcolor\": \"white\", \"linecolor\": \"white\", \"ticks\": \"\"}, \"bgcolor\": \"#E5ECF6\", \"radialaxis\": {\"gridcolor\": \"white\", \"linecolor\": \"white\", \"ticks\": \"\"}}, \"scene\": {\"xaxis\": {\"backgroundcolor\": \"#E5ECF6\", \"gridcolor\": \"white\", \"gridwidth\": 2, \"linecolor\": \"white\", \"showbackground\": true, \"ticks\": \"\", \"zerolinecolor\": \"white\"}, \"yaxis\": {\"backgroundcolor\": \"#E5ECF6\", \"gridcolor\": \"white\", \"gridwidth\": 2, \"linecolor\": \"white\", \"showbackground\": true, \"ticks\": \"\", \"zerolinecolor\": \"white\"}, \"zaxis\": {\"backgroundcolor\": \"#E5ECF6\", \"gridcolor\": \"white\", \"gridwidth\": 2, \"linecolor\": \"white\", \"showbackground\": true, \"ticks\": \"\", \"zerolinecolor\": \"white\"}}, \"shapedefaults\": {\"line\": {\"color\": \"#2a3f5f\"}}, \"ternary\": {\"aaxis\": {\"gridcolor\": \"white\", \"linecolor\": \"white\", \"ticks\": \"\"}, \"baxis\": {\"gridcolor\": \"white\", \"linecolor\": \"white\", \"ticks\": \"\"}, \"bgcolor\": \"#E5ECF6\", \"caxis\": {\"gridcolor\": \"white\", \"linecolor\": \"white\", \"ticks\": \"\"}}, \"title\": {\"x\": 0.05}, \"xaxis\": {\"automargin\": true, \"gridcolor\": \"white\", \"linecolor\": \"white\", \"ticks\": \"\", \"title\": {\"standoff\": 15}, \"zerolinecolor\": \"white\", \"zerolinewidth\": 2}, \"yaxis\": {\"automargin\": true, \"gridcolor\": \"white\", \"linecolor\": \"white\", \"ticks\": \"\", \"title\": {\"standoff\": 15}, \"zerolinecolor\": \"white\", \"zerolinewidth\": 2}}}, \"title\": {\"text\": \"Algor\\u00edtmo gen\\u00e9tico\"}, \"xaxis\": {\"anchor\": \"y\", \"domain\": [0.0, 1.0], \"title\": {\"text\": \"Gera\\u00e7\\u00e3o\"}}, \"yaxis\": {\"anchor\": \"x\", \"domain\": [0.0, 1.0], \"title\": {\"text\": \"value\"}}},\n",
       "                        {\"responsive\": true}\n",
       "                    ).then(function(){\n",
       "                            \n",
       "var gd = document.getElementById('495006d1-3bd2-4b32-9630-0fee35e7a7ec');\n",
       "var x = new MutationObserver(function (mutations, observer) {{\n",
       "        var display = window.getComputedStyle(gd).display;\n",
       "        if (!display || display === 'none') {{\n",
       "            console.log([gd, 'removed!']);\n",
       "            Plotly.purge(gd);\n",
       "            observer.disconnect();\n",
       "        }}\n",
       "}});\n",
       "\n",
       "// Listen for the removal of the full notebook cells\n",
       "var notebookContainer = gd.closest('#notebook-container');\n",
       "if (notebookContainer) {{\n",
       "    x.observe(notebookContainer, {childList: true});\n",
       "}}\n",
       "\n",
       "// Listen for the clearing of the current output cell\n",
       "var outputEl = gd.closest('.output');\n",
       "if (outputEl) {{\n",
       "    x.observe(outputEl, {childList: true});\n",
       "}}\n",
       "\n",
       "                        })\n",
       "                };\n",
       "                });\n",
       "            </script>\n",
       "        </div>"
      ]
     },
     "metadata": {},
     "output_type": "display_data"
    }
   ],
   "source": [
    "g = 0\n",
    "max_anterior = 0\n",
    "contagem = 0\n",
    "lista_metricas = []\n",
    "\n",
    "pop = inicia_populacao(numero_de_objetos, POPULATION_SIZE)\n",
    "\n",
    "# Inicia a evoluÃ§Ã£o\n",
    "for g in tqdm(range(MAX_GENERATIONS)):\n",
    "\n",
    "    # Aplica o cruzamento nos descendentes\n",
    "    descendentes = []\n",
    "    for filho1, filho2 in zip(pop[::2], pop[1::2]):\n",
    "\n",
    "        # Se uma variÃ¡vel aleatÃ³ria for menor que a taxa de cruzamento\n",
    "        if random.random() < CXPB:\n",
    "            # Cruza dois filhos\n",
    "            filho1, filho2 = cruzamento(filho1, filho2)\n",
    "        descendentes += [filho1,filho2]\n",
    "\n",
    "    # Aplica a mutaÃ§Ã£o aos descendentes\n",
    "    for index,mutante in enumerate(descendentes):\n",
    "\n",
    "        # Se uma variÃ¡vel aleatÃ³ria for menor que a taxa de mutaÃ§Ã£o\n",
    "        descendentes[index] = mutacao(mutante)\n",
    "\n",
    "\n",
    "    pop_aumentada = pop + descendentes\n",
    "    # Salvamos todos os fitness para as estatÃ­sticas\n",
    "    fits = [calcula_fitness(individuo, problema, beneficios, pesos) for individuo in pop_aumentada]\n",
    "\n",
    "    # Selecionamos a pop\n",
    "    pop = seleciona_populacao(pop_aumentada, len(pop), fits)\n",
    "\n",
    "    try:\n",
    "        fits = fits[:len(pop)]\n",
    "        length = len(pop)\n",
    "        mean = sum(fits) / length\n",
    "        sum2 = sum(x * x for x in fits)\n",
    "        std = abs(sum2 / length - mean ** 2) ** 0.5\n",
    "        lista_metricas.append({\n",
    "            'Média': mean,\n",
    "            'Mínimo': min(fits),\n",
    "            'Máximo': max(fits),\n",
    "            'Desvio Padrão': std,\n",
    "            'Geração': g,\n",
    "        })\n",
    "    except ZeroDivisionError:\n",
    "        pass\n",
    "\n",
    "    maximo = max(fits)\n",
    "\n",
    "    if maximo == max_anterior:\n",
    "\n",
    "        contagem += 1\n",
    "\n",
    "    else:\n",
    "\n",
    "        contagem = 0\n",
    "\n",
    "    if (contagem == 50):\n",
    "        break\n",
    "\n",
    "    max_anterior = maximo\n",
    "    \n",
    "melhor_individuo = seleciona_populacao(pop, 1, fits)[0]\n",
    "fitness_melhor_individuo = calcula_fitness(melhor_individuo, problema, beneficios, pesos)\n",
    "\n",
    "\n",
    "print(f'Melhor individuo: {melhor_individuo}')\n",
    "print(f'Fitness melhor individuo: {fitness_melhor_individuo}')\n",
    "fig = px.line(pd.DataFrame(lista_metricas[1:]), x='Geração', y=['Média', 'Máximo'], title='Algorítmo genético')\n",
    "display(fig)"
   ]
  }
 ],
 "metadata": {
  "kernelspec": {
   "display_name": "Python 3",
   "language": "python",
   "name": "python3"
  },
  "language_info": {
   "codemirror_mode": {
    "name": "ipython",
    "version": 3
   },
   "file_extension": ".py",
   "mimetype": "text/x-python",
   "name": "python",
   "nbconvert_exporter": "python",
   "pygments_lexer": "ipython3",
   "version": "3.6.10"
  }
 },
 "nbformat": 4,
 "nbformat_minor": 5
}
